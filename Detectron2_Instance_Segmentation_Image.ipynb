{
  "nbformat": 4,
  "nbformat_minor": 0,
  "metadata": {
    "colab": {
      "provenance": []
    },
    "kernelspec": {
      "name": "python3",
      "display_name": "Python 3"
    },
    "language_info": {
      "name": "python"
    },
    "accelerator": "GPU",
    "gpuClass": "standard"
  },
  "cells": [
    {
      "cell_type": "markdown",
      "source": [
        "## Segmentação de Imagens\n",
        "<img src=\"https://dl.fbaipublicfiles.com/detectron2/Detectron2-Logo-Horz.png\" width=\"500\"> <br>\n",
        "\n",
        "\n",
        "**Dev Ideias - Instrutor: Wellington I Souza"
      ],
      "metadata": {
        "id": "qD_1WG-iFl_Q"
      }
    },
    {
      "cell_type": "markdown",
      "source": [
        "Importar Depedencias"
      ],
      "metadata": {
        "id": "dBRg4H17zcSX"
      }
    },
    {
      "cell_type": "code",
      "execution_count": null,
      "metadata": {
        "id": "Q7egbbWKm6Jn"
      },
      "outputs": [],
      "source": [
        "!pip install pyyaml==5.1\n",
        "!pip install torch==1.7.1+cu101 torchvision==0.8.2+cu101 torchaudio==0.7.2 -f https://download.pytorch.org/whl/torch_stable.html"
      ]
    },
    {
      "cell_type": "markdown",
      "source": [
        "Conferir Versão do Pytorch e se o cuda está ativo"
      ],
      "metadata": {
        "id": "PLkzt6auzw6l"
      }
    },
    {
      "cell_type": "code",
      "source": [
        "import torch\n",
        "print(torch.__version__)\n",
        "print(torch.cuda.is_available())"
      ],
      "metadata": {
        "id": "ciTKBEiBn7Aq",
        "colab": {
          "base_uri": "https://localhost:8080/"
        },
        "outputId": "1fc1652b-0089-4f4e-85dd-6315042ae203"
      },
      "execution_count": 2,
      "outputs": [
        {
          "output_type": "stream",
          "name": "stdout",
          "text": [
            "1.7.1+cu101\n",
            "True\n"
          ]
        }
      ]
    },
    {
      "cell_type": "markdown",
      "source": [
        "Instalar detectron como depedencia"
      ],
      "metadata": {
        "id": "E4qfEWSl0IkC"
      }
    },
    {
      "cell_type": "code",
      "source": [
        "!pip install detectron2 -f https://dl.fbaipublicfiles.com/detectron2/wheels/cu101/torch1.7/index.html"
      ],
      "metadata": {
        "id": "mepC66hZoaUl"
      },
      "execution_count": null,
      "outputs": []
    },
    {
      "cell_type": "markdown",
      "source": [
        "importar detectron e referencias"
      ],
      "metadata": {
        "id": "i-hqY9M4pBWw"
      }
    },
    {
      "cell_type": "code",
      "source": [
        "import detectron2\n",
        "from detectron2.utils.logger import setup_logger\n",
        "setup_logger()\n",
        "\n",
        "from detectron2 import model_zoo\n",
        "from detectron2.engine import DefaultPredictor\n",
        "from detectron2.config import get_cfg\n",
        "from detectron2.utils.visualizer import Visualizer\n",
        "from detectron2.data import MetadataCatalog,DatasetCatalog\n",
        "\n",
        "import cv2\n",
        "from google.colab.patches import cv2_imshow"
      ],
      "metadata": {
        "id": "lS_GBUoSpFDt"
      },
      "execution_count": 4,
      "outputs": []
    },
    {
      "cell_type": "markdown",
      "source": [
        "## Rodar Modelo com Imagem\n",
        "Carregar Imagem"
      ],
      "metadata": {
        "id": "ZluJc5AJ0aVV"
      }
    },
    {
      "cell_type": "code",
      "source": [
        "image = cv2.imread('./road.jpg')\n",
        "cv2_imshow(image)"
      ],
      "metadata": {
        "id": "xbDUq-mvqjDY"
      },
      "execution_count": null,
      "outputs": []
    },
    {
      "cell_type": "markdown",
      "source": [
        "Configurar Modelo de Detecção"
      ],
      "metadata": {
        "id": "YQLMIItQ0dfg"
      }
    },
    {
      "cell_type": "code",
      "source": [
        "cfg = get_cfg()\n",
        "#models for object detection\n",
        "# cfg.merge_from_file(model_zoo.get_config_file(\"COCO-Detection/faster_rcnn_X_101_32x8d_FPN_3x.yaml\"))\n",
        "# cfg.MODEL.WEIGHTS = model_zoo.get_checkpoint_url(\"COCO-Detection/faster_rcnn_X_101_32x8d_FPN_3x.yaml\")\n",
        "\n",
        "#models for object segmentation\n",
        "cfg.merge_from_file(model_zoo.get_config_file(\"COCO-InstanceSegmentation/mask_rcnn_X_101_32x8d_FPN_3x.yaml\"))\n",
        "cfg.MODEL.WEIGHTS = model_zoo.get_checkpoint_url(\"COCO-InstanceSegmentation/mask_rcnn_X_101_32x8d_FPN_3x.yaml\")\n",
        "\n",
        "cfg.MODEL.ROI_HEADS.SCORE_THRESH_TEST = 0.6"
      ],
      "metadata": {
        "id": "_6MHhjOuq4hj"
      },
      "execution_count": 6,
      "outputs": []
    },
    {
      "cell_type": "markdown",
      "source": [
        "Passar Imagem para o Modelo fazer a predição"
      ],
      "metadata": {
        "id": "smzWCF2F0oSw"
      }
    },
    {
      "cell_type": "code",
      "source": [
        "predictor = DefaultPredictor(cfg)\n",
        "outputs = predictor(image)"
      ],
      "metadata": {
        "id": "6N8rT8MRrDrd"
      },
      "execution_count": null,
      "outputs": []
    },
    {
      "cell_type": "markdown",
      "source": [
        "Vizualizar Resultado"
      ],
      "metadata": {
        "id": "h4IoxXma0wm1"
      }
    },
    {
      "cell_type": "code",
      "source": [
        "vizu = Visualizer(image[:,:,::-1], MetadataCatalog.get(cfg.DATASETS.TRAIN[0]))\n",
        "output = vizu.draw_instance_predictions(outputs[\"instances\"].to(\"cpu\"))\n",
        "cv2_imshow(output.get_image()[:,:,::-1])"
      ],
      "metadata": {
        "id": "2r7Xqa_Et2kR"
      },
      "execution_count": null,
      "outputs": []
    }
  ]
}